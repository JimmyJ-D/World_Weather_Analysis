{
 "cells": [
  {
   "cell_type": "code",
   "execution_count": 3,
   "metadata": {},
   "outputs": [],
   "source": [
    "#6.1.4\n",
    "# Import the random module.\n",
    "import random"
   ]
  },
  {
   "cell_type": "code",
   "execution_count": 16,
   "metadata": {},
   "outputs": [
    {
     "data": {
      "text/plain": [
       "-29"
      ]
     },
     "execution_count": 16,
     "metadata": {},
     "output_type": "execute_result"
    }
   ],
   "source": [
    "#The randint() Function\n",
    "random.randint(-90, 90)\n",
    "#get a single integer between –90 and 90 because we need two latitudes between –90 and 90.\n",
    "#we need 1,500 random decimal numbers. This function will only return one integer, \n",
    "#not a floating-point decimal, between the given intervals."
   ]
  },
  {
   "cell_type": "code",
   "execution_count": 17,
   "metadata": {},
   "outputs": [
    {
     "data": {
      "text/plain": [
       "0.425449092146588"
      ]
     },
     "execution_count": 17,
     "metadata": {},
     "output_type": "execute_result"
    }
   ],
   "source": [
    "#The random() Function\n",
    "random.random()\n",
    "#we can get a single floating-point decimal number between 0 and 1.0."
   ]
  },
  {
   "cell_type": "code",
   "execution_count": 20,
   "metadata": {},
   "outputs": [
    {
     "data": {
      "text/plain": [
       "14.107429054627845"
      ]
     },
     "execution_count": 20,
     "metadata": {},
     "output_type": "execute_result"
    }
   ],
   "source": [
    "#we combine random.randint(-90, 89) and random.random() \n",
    "#to generate a floating-point decimal between –90 and 90, \n",
    "#we can generate a random latitude. We changed the lower range of the randint() \n",
    "#because we want whole numbers up to 89, so when we add the floating-point decimal number, \n",
    "#we'll generate latitudes between –89.99999 and 89.99999\n",
    "\n",
    "random_number = random.randint(-90, 89) + random.random()\n",
    "random_number"
   ]
  },
  {
   "cell_type": "code",
   "execution_count": 21,
   "metadata": {},
   "outputs": [],
   "source": [
    "#Using these two functions, we can write an algorithm that will generate \n",
    "#latitudes between –90 and 89. Here is a small sample of what it might take to \n",
    "#generate ten random floating-point decimal latitudes between –90 and 89."
   ]
  },
  {
   "cell_type": "code",
   "execution_count": 25,
   "metadata": {},
   "outputs": [
    {
     "data": {
      "text/plain": [
       "[-20.261890706359917,\n",
       " -17.043212959921522,\n",
       " 84.2782253927282,\n",
       " 69.9530902677924,\n",
       " -50.02751024473713,\n",
       " -73.23377308180906,\n",
       " -9.577824162267262,\n",
       " 74.09998457924182,\n",
       " -15.24918915247887,\n",
       " 58.42123026695722]"
      ]
     },
     "execution_count": 25,
     "metadata": {},
     "output_type": "execute_result"
    }
   ],
   "source": [
    "x = 1\n",
    "latitudes = []\n",
    "while x < 11: # this is how many times it will run\n",
    "    random_lat = random.randint(-90, 89) + random.random()\n",
    "    latitudes.append(random_lat)\n",
    "    x += 1 # add 1 to the varible which start at one, so that once its greater that 11 the loop stops\n",
    "    \n",
    "latitudes"
   ]
  },
  {
   "cell_type": "code",
   "execution_count": 26,
   "metadata": {},
   "outputs": [],
   "source": [
    "#In the code block above, we:\n",
    "\n",
    "#Assign the variable x to 1.\n",
    "#Initialize an empty list, latitudes.\n",
    "#We create a while loop where we generate a random latitude and add it to the list.\n",
    "#After the random latitude is added to the list we add one to the variable \"x\".\n",
    "#The while loop condition is checked again and will continue to run as long as x is less than 11.\n"
   ]
  },
  {
   "cell_type": "code",
   "execution_count": 27,
   "metadata": {},
   "outputs": [
    {
     "data": {
      "text/plain": [
       "-2"
      ]
     },
     "execution_count": 27,
     "metadata": {},
     "output_type": "execute_result"
    }
   ],
   "source": [
    "#The randrange() Function\n",
    "#we need to add two numbers, a lower and upper limit, separated by a comma.\n",
    "#step parameter and set it equal to an integer, which will generate increments of a given integer value, \n",
    "#from the lower to the upper limit.\n",
    "\n",
    "random.randrange(-90, 90, step=1)\n",
    "#The output is a number between -90 and 90, \n",
    "#where the step is the difference between each number in the sequence."
   ]
  },
  {
   "cell_type": "code",
   "execution_count": 31,
   "metadata": {},
   "outputs": [
    {
     "data": {
      "text/plain": [
       "-18"
      ]
     },
     "execution_count": 31,
     "metadata": {},
     "output_type": "execute_result"
    }
   ],
   "source": [
    "random.randrange(-90, 90, step=3)\n",
    "#The output is a number between -90 and 90, \n",
    "#where the difference between each number in the sequence is 3"
   ]
  },
  {
   "cell_type": "code",
   "execution_count": 32,
   "metadata": {},
   "outputs": [
    {
     "data": {
      "text/plain": [
       "-14.498014008062285"
      ]
     },
     "execution_count": 32,
     "metadata": {},
     "output_type": "execute_result"
    }
   ],
   "source": [
    "#The uniform() Function\n",
    "# function will allow us to generate a floating-point decimal number \n",
    "#between two given numbers inside the parentheses\n",
    "\n",
    "random.uniform(-90, 90)\n",
    "#function could prove to be quite useful because it will return a floating-point decimal number"
   ]
  },
  {
   "cell_type": "code",
   "execution_count": 33,
   "metadata": {},
   "outputs": [],
   "source": [
    "#The NumPy and random Modules\n",
    "#NumPy module is a numerical mathematics library that we used to make arrays or matrics of numbers\n",
    "\n",
    "#One way to generate more than a thousand latitudes and longitudes \n",
    "#is to chain the NumPy module to the random module to create an array \n",
    "#of latitudes or longitudes between the lowest and highest values, \n",
    "#or –90° and 90°, and –180° and 180°, respectively. To accomplish this, \n",
    "#we'll use the uniform() function from the random module.\n",
    "\n",
    "#uniform(-90, 90) Returns a floating-point decimal number between the interval, -90 and 90.\n",
    "#will not generate a whole interger. "
   ]
  },
  {
   "cell_type": "code",
   "execution_count": 34,
   "metadata": {},
   "outputs": [],
   "source": [
    "# Import the NumPy module.\n",
    "import numpy as np\n",
    "\n",
    "#Numpy has. built-in radom module, we don't to import random if we use numpy"
   ]
  },
  {
   "cell_type": "code",
   "execution_count": 35,
   "metadata": {},
   "outputs": [
    {
     "data": {
      "text/plain": [
       "58.53362953609357"
      ]
     },
     "execution_count": 35,
     "metadata": {},
     "output_type": "execute_result"
    }
   ],
   "source": [
    " np.random.uniform(-90.000, 90.000)\n",
    "    #generate a floating-point decimal number between –90.000 and 90.000. \n",
    "    #Adding the zeros past the decimal places is optional.\n",
    "    \n",
    "#np.random.uniform(low=-90, high=90)\n",
    "#this is an alertive way to write the code above"
   ]
  },
  {
   "cell_type": "code",
   "execution_count": 36,
   "metadata": {},
   "outputs": [
    {
     "data": {
      "text/plain": [
       "array([ 20.92770969, -51.13166774, -10.73016091, -21.42330258,\n",
       "        34.9268664 , -56.37360019,  16.66131115,  73.1251643 ,\n",
       "        75.86843838,  50.12846816, -68.93570489,  63.72093922,\n",
       "       -69.49638595,  60.85777911, -39.07580347,  13.08272649,\n",
       "       -61.40553309, -10.92150407, -74.2776544 , -15.58208557,\n",
       "       -68.83944448,  38.35111637, -30.26980007,  36.74014653,\n",
       "        58.55052956, -60.65697582, -68.21537042,  38.22060929,\n",
       "         6.19083503, -40.79838155,  72.3193747 ,  52.8522226 ,\n",
       "       -75.17398926,  63.40510348,  88.65987901, -63.47564183,\n",
       "        10.22569175,  73.95195023,  67.25960619, -38.09217716,\n",
       "        38.21185971, -59.89459735, -43.43912221, -86.26867214,\n",
       "        76.12736217,  78.46676503,  77.98072238, -19.68490004,\n",
       "       -23.14076845, -26.94226589])"
      ]
     },
     "execution_count": 36,
     "metadata": {},
     "output_type": "execute_result"
    }
   ],
   "source": [
    "np.random.uniform(-90.000, 90.000, size=50)\n",
    "#the size parameter tell how many floating-point decimal to generate, "
   ]
  },
  {
   "cell_type": "code",
   "execution_count": 40,
   "metadata": {},
   "outputs": [],
   "source": [
    "# Import timeit.\n",
    "import timeit\n",
    "# we are importing the timit command to see time if a while loop or np.random.uniform() \n",
    "#is faster\n"
   ]
  },
  {
   "cell_type": "code",
   "execution_count": 43,
   "metadata": {},
   "outputs": [
    {
     "name": "stdout",
     "output_type": "stream",
     "text": [
      "11.8 µs ± 193 ns per loop (mean ± std. dev. of 7 runs, 100000 loops each)\n"
     ]
    }
   ],
   "source": [
    "#%timeit this is the magic command for time. \n",
    "%timeit np.random.uniform(-90.000, 90.000, size=1500)\n",
    "#you have to let it run, could take up to 20secs. \n",
    "#this took 11.8 microseconds. THIS 100 TIMES FASTER THAN THE CODE BELOW. "
   ]
  },
  {
   "cell_type": "code",
   "execution_count": 44,
   "metadata": {},
   "outputs": [
    {
     "name": "stdout",
     "output_type": "stream",
     "text": [
      "1.15 ms ± 9.01 µs per loop (mean ± std. dev. of 7 runs, 1000 loops each)\n"
     ]
    }
   ],
   "source": [
    "#now lets time with a while loop\n",
    "\n",
    "def latitudes(size):\n",
    "    latitudes = []\n",
    "    x = 0\n",
    "    while x < (size):\n",
    "        random_lat = random.randint(-90, 90) + random.random()\n",
    "        latitudes.append(random_lat)\n",
    "        x += 1\n",
    "    return latitudes\n",
    "# Call the function with 1500.\n",
    "%timeit latitudes(1500)\n",
    "\n",
    "#you have to let it run, could take up to 20secs\n",
    "#this took 1.15 millisecounds"
   ]
  },
  {
   "cell_type": "code",
   "execution_count": 45,
   "metadata": {},
   "outputs": [],
   "source": [
    "#documentation on numpy.random.uniform() (Links to an external site.).\n",
    "#https://docs.scipy.org/doc/numpy-1.14.0/reference/generated/numpy.random.uniform.html"
   ]
  },
  {
   "cell_type": "code",
   "execution_count": 46,
   "metadata": {},
   "outputs": [
    {
     "name": "stdout",
     "output_type": "stream",
     "text": [
      "1.21 ms ± 34.6 µs per loop (mean ± std. dev. of 7 runs, 1000 loops each)\n"
     ]
    }
   ],
   "source": [
    "#Skill Drill 6.1.4  ASK FOR HELP HERE\n",
    "#Refactor the code for the while loop with the %timeit magic command and \n",
    "#write a for loop that will generate the 1,500 latitudes.\n",
    "\n",
    "#IS THIS NOT THE SAME WHILE LOOP AND TIME WE USED IN THE EXAMPLE\n",
    "def latitudes(size):\n",
    "    latitudes = []\n",
    "    x = 0\n",
    "    while x < (size):\n",
    "        random_lat = random.randint(-90, 90) + random.random()\n",
    "        latitudes.append(random_lat)\n",
    "        x += 1\n",
    "    return latitudes\n",
    "# Call the function with 1500.\n",
    "%timeit latitudes(1500)"
   ]
  },
  {
   "cell_type": "code",
   "execution_count": null,
   "metadata": {},
   "outputs": [],
   "source": []
  }
 ],
 "metadata": {
  "kernelspec": {
   "display_name": "PythonData",
   "language": "python",
   "name": "pythondata"
  },
  "language_info": {
   "codemirror_mode": {
    "name": "ipython",
    "version": 3
   },
   "file_extension": ".py",
   "mimetype": "text/x-python",
   "name": "python",
   "nbconvert_exporter": "python",
   "pygments_lexer": "ipython3",
   "version": "3.8.5"
  }
 },
 "nbformat": 4,
 "nbformat_minor": 4
}
